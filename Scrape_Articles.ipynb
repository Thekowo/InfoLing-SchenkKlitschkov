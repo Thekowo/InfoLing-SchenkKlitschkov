{
 "cells": [
  {
   "cell_type": "code",
   "execution_count": 2,
   "metadata": {},
   "outputs": [],
   "source": [
    "!pip install wikipedia-api\n",
    "import wikipediaapi\n",
    "import requests\n",
    "from bs4 import BeautifulSoup\n",
    "from urllib.request import urlopen"
   ]
  },
  {
   "cell_type": "code",
   "execution_count": 3,
   "metadata": {},
   "outputs": [],
   "source": [
    "wiki_link = '/wiki/'\n",
    "my_list_wiki = set([])\n",
    "my_list_bs = set([])\n",
    "my_list_wiki.add('Cryptocurrency')\n",
    "wiki_wiki = wikipediaapi.Wikipedia('en')"
   ]
  },
  {
   "cell_type": "code",
   "execution_count": 13,
   "metadata": {},
   "outputs": [],
   "source": [
    "with urlopen('https://en.wikipedia.org/wiki/Cryptocurrency') as response:\n",
    "    soup = BeautifulSoup(response, 'html.parser')  \n",
    "    for anchor in soup.find_all('a', href=True):\n",
    "        if anchor['href'].startswith(wiki_link):\n",
    "            if ':' not in anchor['href']:\n",
    "                url = anchor['href']\n",
    "                new_url = url[6:]\n",
    "                try:\n",
    "                    my_list_wiki.add(new_url)\n",
    "                except wikipedia.exceptions.PageError as error:\n",
    "                    url = 'https://en.wikipedia.org' + new_url\n",
    "                    with urlopen(url) as resp:\n",
    "                        soup = BeautifulSoup(resp, 'html.parser')\n",
    "                        my_list_bs.add(url)"
   ]
  },
  {
   "cell_type": "code",
   "execution_count": 6,
   "metadata": {},
   "outputs": [],
   "source": [
    "main_list = list(dict.fromkeys(my_list_wiki))"
   ]
  },
  {
   "cell_type": "code",
   "execution_count": 9,
   "metadata": {},
   "outputs": [],
   "source": [
    "def write_all_txt_files(mylist):\n",
    "    txt_ending = '.txt'\n",
    "    for i in mylist:\n",
    "        href_content = wiki_wiki.page(i).text\n",
    "        new_txt = i + txt_ending\n",
    "        file = open(new_txt,'w')\n",
    "        file.write(href_content)\n",
    "        file.close()"
   ]
  },
  {
   "cell_type": "code",
   "execution_count": 12,
   "metadata": {},
   "outputs": [],
   "source": [
    "# This function writes all the txt. files in the directory the notebook is in, handle with care.\n",
    "write_all_txt_files(main_list)"
   ]
  }
 ],
 "metadata": {
  "kernelspec": {
   "display_name": "Python 3",
   "language": "python",
   "name": "python3"
  },
  "language_info": {
   "codemirror_mode": {
    "name": "ipython",
    "version": 3
   },
   "file_extension": ".py",
   "mimetype": "text/x-python",
   "name": "python",
   "nbconvert_exporter": "python",
   "pygments_lexer": "ipython3",
   "version": "3.7.3"
  }
 },
 "nbformat": 4,
 "nbformat_minor": 4
}
