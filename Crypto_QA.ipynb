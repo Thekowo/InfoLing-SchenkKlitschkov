{
  "nbformat": 4,
  "nbformat_minor": 0,
  "metadata": {
    "kernelspec": {
      "display_name": "Python 3",
      "language": "python",
      "name": "python3"
    },
    "language_info": {
      "codemirror_mode": {
        "name": "ipython",
        "version": 3
      },
      "file_extension": ".py",
      "mimetype": "text/x-python",
      "name": "python",
      "nbconvert_exporter": "python",
      "pygments_lexer": "ipython3",
      "version": "3.7.6"
    },
    "pycharm": {
      "stem_cell": {
        "cell_type": "raw",
        "source": [],
        "metadata": {
          "collapsed": false
        }
      }
    },
    "colab": {
      "name": "Crypto QA.ipynb",
      "provenance": [],
      "collapsed_sections": [],
      "include_colab_link": true
    },
    "accelerator": "GPU"
  },
  "cells": [
    {
      "cell_type": "markdown",
      "metadata": {
        "id": "view-in-github",
        "colab_type": "text"
      },
      "source": [
        "<a href=\"https://colab.research.google.com/github/Thekowo/InfoLing-SchenkKlitschkov/blob/main/Crypto_QA.ipynb\" target=\"_parent\"><img src=\"https://colab.research.google.com/assets/colab-badge.svg\" alt=\"Open In Colab\"/></a>"
      ]
    },
    {
      "cell_type": "code",
      "metadata": {
        "pycharm": {
          "name": "#%%\n"
        },
        "id": "0Xk7IWr-7CUI",
        "outputId": "5aa3e1f5-24f8-4f8d-ec80-4282673bbcf9",
        "colab": {
          "base_uri": "https://localhost:8080/"
        }
      },
      "source": [
        "# Make sure you have a GPU running\n",
        "!nvidia-smi"
      ],
      "execution_count": 1,
      "outputs": [
        {
          "output_type": "stream",
          "name": "stdout",
          "text": [
            "Tue Sep 21 15:52:02 2021       \n",
            "+-----------------------------------------------------------------------------+\n",
            "| NVIDIA-SMI 470.63.01    Driver Version: 460.32.03    CUDA Version: 11.2     |\n",
            "|-------------------------------+----------------------+----------------------+\n",
            "| GPU  Name        Persistence-M| Bus-Id        Disp.A | Volatile Uncorr. ECC |\n",
            "| Fan  Temp  Perf  Pwr:Usage/Cap|         Memory-Usage | GPU-Util  Compute M. |\n",
            "|                               |                      |               MIG M. |\n",
            "|===============================+======================+======================|\n",
            "|   0  Tesla K80           Off  | 00000000:00:04.0 Off |                    0 |\n",
            "| N/A   37C    P8    28W / 149W |      0MiB / 11441MiB |      0%      Default |\n",
            "|                               |                      |                  N/A |\n",
            "+-------------------------------+----------------------+----------------------+\n",
            "                                                                               \n",
            "+-----------------------------------------------------------------------------+\n",
            "| Processes:                                                                  |\n",
            "|  GPU   GI   CI        PID   Type   Process name                  GPU Memory |\n",
            "|        ID   ID                                                   Usage      |\n",
            "|=============================================================================|\n",
            "|  No running processes found                                                 |\n",
            "+-----------------------------------------------------------------------------+\n"
          ]
        }
      ]
    },
    {
      "cell_type": "code",
      "metadata": {
        "id": "IcaJc4-87CUI",
        "outputId": "1d6e0eca-fff6-48ae-9cb9-192203c34b2b",
        "colab": {
          "base_uri": "https://localhost:8080/"
        }
      },
      "source": [
        "# Install the latest release of Haystack in your own environment \n",
        "#! pip install farm-haystack\n",
        "\n",
        "# Install the latest master of Haystack\n",
        "!pip install grpcio-tools==1.34.1\n",
        "!pip install git+https://github.com/deepset-ai/haystack.git\n"
      ],
      "execution_count": 2,
      "outputs": [
        {
          "output_type": "stream",
          "name": "stdout",
          "text": [
            "Requirement already satisfied: grpcio-tools==1.34.1 in /usr/local/lib/python3.7/dist-packages (1.34.1)\n",
            "Requirement already satisfied: setuptools in /usr/local/lib/python3.7/dist-packages (from grpcio-tools==1.34.1) (57.4.0)\n",
            "Requirement already satisfied: grpcio>=1.34.1 in /usr/local/lib/python3.7/dist-packages (from grpcio-tools==1.34.1) (1.37.1)\n",
            "Requirement already satisfied: protobuf<4.0dev,>=3.5.0.post1 in /usr/local/lib/python3.7/dist-packages (from grpcio-tools==1.34.1) (3.17.3)\n",
            "Requirement already satisfied: six>=1.5.2 in /usr/local/lib/python3.7/dist-packages (from grpcio>=1.34.1->grpcio-tools==1.34.1) (1.15.0)\n",
            "Collecting git+https://github.com/deepset-ai/haystack.git\n",
            "  Cloning https://github.com/deepset-ai/haystack.git to /tmp/pip-req-build-ci4afflz\n",
            "  Running command git clone -q https://github.com/deepset-ai/haystack.git /tmp/pip-req-build-ci4afflz\n",
            "Requirement already satisfied: farm==0.8.0 in /usr/local/lib/python3.7/dist-packages (from farm-haystack==1.0.0rc1) (0.8.0)\n",
            "Requirement already satisfied: fastapi in /usr/local/lib/python3.7/dist-packages (from farm-haystack==1.0.0rc1) (0.68.1)\n",
            "Requirement already satisfied: uvicorn in /usr/local/lib/python3.7/dist-packages (from farm-haystack==1.0.0rc1) (0.15.0)\n",
            "Requirement already satisfied: gunicorn in /usr/local/lib/python3.7/dist-packages (from farm-haystack==1.0.0rc1) (20.1.0)\n",
            "Requirement already satisfied: pandas in /usr/local/lib/python3.7/dist-packages (from farm-haystack==1.0.0rc1) (1.1.5)\n",
            "Requirement already satisfied: sklearn in /usr/local/lib/python3.7/dist-packages (from farm-haystack==1.0.0rc1) (0.0)\n",
            "Requirement already satisfied: elasticsearch<=7.10,>=7.7 in /usr/local/lib/python3.7/dist-packages (from farm-haystack==1.0.0rc1) (7.10.0)\n",
            "Requirement already satisfied: elastic-apm in /usr/local/lib/python3.7/dist-packages (from farm-haystack==1.0.0rc1) (6.4.0)\n",
            "Requirement already satisfied: tox in /usr/local/lib/python3.7/dist-packages (from farm-haystack==1.0.0rc1) (3.24.4)\n",
            "Requirement already satisfied: coverage in /usr/local/lib/python3.7/dist-packages (from farm-haystack==1.0.0rc1) (3.7.1)\n",
            "Requirement already satisfied: langdetect in /usr/local/lib/python3.7/dist-packages (from farm-haystack==1.0.0rc1) (1.0.9)\n",
            "Requirement already satisfied: pytesseract==0.3.7 in /usr/local/lib/python3.7/dist-packages (from farm-haystack==1.0.0rc1) (0.3.7)\n",
            "Requirement already satisfied: pillow==8.3.2 in /usr/local/lib/python3.7/dist-packages (from farm-haystack==1.0.0rc1) (8.3.2)\n",
            "Requirement already satisfied: pdf2image==1.14.0 in /usr/local/lib/python3.7/dist-packages (from farm-haystack==1.0.0rc1) (1.14.0)\n",
            "Requirement already satisfied: sentence-transformers>=0.4.0 in /usr/local/lib/python3.7/dist-packages (from farm-haystack==1.0.0rc1) (2.0.0)\n",
            "Requirement already satisfied: python-multipart in /usr/local/lib/python3.7/dist-packages (from farm-haystack==1.0.0rc1) (0.0.5)\n",
            "Requirement already satisfied: python-docx in /usr/local/lib/python3.7/dist-packages (from farm-haystack==1.0.0rc1) (0.8.11)\n",
            "Requirement already satisfied: sqlalchemy>=1.4.2 in /usr/local/lib/python3.7/dist-packages (from farm-haystack==1.0.0rc1) (1.4.23)\n",
            "Requirement already satisfied: sqlalchemy_utils in /usr/local/lib/python3.7/dist-packages (from farm-haystack==1.0.0rc1) (0.37.8)\n",
            "Requirement already satisfied: faiss-cpu>=1.6.3 in /usr/local/lib/python3.7/dist-packages (from farm-haystack==1.0.0rc1) (1.7.1.post2)\n",
            "Requirement already satisfied: tika in /usr/local/lib/python3.7/dist-packages (from farm-haystack==1.0.0rc1) (1.24)\n",
            "Requirement already satisfied: httptools in /usr/local/lib/python3.7/dist-packages (from farm-haystack==1.0.0rc1) (0.3.0)\n",
            "Requirement already satisfied: nltk in /usr/local/lib/python3.7/dist-packages (from farm-haystack==1.0.0rc1) (3.2.5)\n",
            "Requirement already satisfied: more_itertools in /usr/local/lib/python3.7/dist-packages (from farm-haystack==1.0.0rc1) (8.9.0)\n",
            "Requirement already satisfied: networkx in /usr/local/lib/python3.7/dist-packages (from farm-haystack==1.0.0rc1) (2.6.3)\n",
            "Requirement already satisfied: pymilvus in /usr/local/lib/python3.7/dist-packages (from farm-haystack==1.0.0rc1) (1.1.2)\n",
            "Requirement already satisfied: SPARQLWrapper in /usr/local/lib/python3.7/dist-packages (from farm-haystack==1.0.0rc1) (1.8.5)\n",
            "Requirement already satisfied: mmh3 in /usr/local/lib/python3.7/dist-packages (from farm-haystack==1.0.0rc1) (3.0.0)\n",
            "Requirement already satisfied: weaviate-client==2.5.0 in /usr/local/lib/python3.7/dist-packages (from farm-haystack==1.0.0rc1) (2.5.0)\n",
            "Requirement already satisfied: ray==1.5.0 in /usr/local/lib/python3.7/dist-packages (from farm-haystack==1.0.0rc1) (1.5.0)\n",
            "Requirement already satisfied: psycopg2-binary in /usr/local/lib/python3.7/dist-packages (from farm-haystack==1.0.0rc1) (2.9.1)\n",
            "Requirement already satisfied: uvloop==0.14 in /usr/local/lib/python3.7/dist-packages (from farm-haystack==1.0.0rc1) (0.14.0)\n",
            "Requirement already satisfied: torch<1.9,>1.5 in /usr/local/lib/python3.7/dist-packages (from farm==0.8.0->farm-haystack==1.0.0rc1) (1.8.1)\n",
            "Requirement already satisfied: transformers==4.6.1 in /usr/local/lib/python3.7/dist-packages (from farm==0.8.0->farm-haystack==1.0.0rc1) (4.6.1)\n",
            "Requirement already satisfied: Werkzeug==0.16.1 in /usr/local/lib/python3.7/dist-packages (from farm==0.8.0->farm-haystack==1.0.0rc1) (0.16.1)\n",
            "Requirement already satisfied: flask in /usr/local/lib/python3.7/dist-packages (from farm==0.8.0->farm-haystack==1.0.0rc1) (1.1.4)\n",
            "Requirement already satisfied: flask-cors in /usr/local/lib/python3.7/dist-packages (from farm==0.8.0->farm-haystack==1.0.0rc1) (3.0.10)\n",
            "Requirement already satisfied: dotmap in /usr/local/lib/python3.7/dist-packages (from farm==0.8.0->farm-haystack==1.0.0rc1) (1.3.24)\n",
            "Requirement already satisfied: tqdm in /usr/local/lib/python3.7/dist-packages (from farm==0.8.0->farm-haystack==1.0.0rc1) (4.62.2)\n",
            "Requirement already satisfied: mlflow<=1.13.1 in /usr/local/lib/python3.7/dist-packages (from farm==0.8.0->farm-haystack==1.0.0rc1) (1.13.1)\n",
            "Requirement already satisfied: wheel in /usr/local/lib/python3.7/dist-packages (from farm==0.8.0->farm-haystack==1.0.0rc1) (0.37.0)\n",
            "Requirement already satisfied: sentencepiece in /usr/local/lib/python3.7/dist-packages (from farm==0.8.0->farm-haystack==1.0.0rc1) (0.1.96)\n",
            "Requirement already satisfied: psutil in /usr/local/lib/python3.7/dist-packages (from farm==0.8.0->farm-haystack==1.0.0rc1) (5.4.8)\n",
            "Requirement already satisfied: scipy>=1.3.2 in /usr/local/lib/python3.7/dist-packages (from farm==0.8.0->farm-haystack==1.0.0rc1) (1.4.1)\n",
            "Requirement already satisfied: seqeval in /usr/local/lib/python3.7/dist-packages (from farm==0.8.0->farm-haystack==1.0.0rc1) (1.2.2)\n",
            "Requirement already satisfied: requests in /usr/local/lib/python3.7/dist-packages (from farm==0.8.0->farm-haystack==1.0.0rc1) (2.23.0)\n",
            "Requirement already satisfied: setuptools in /usr/local/lib/python3.7/dist-packages (from farm==0.8.0->farm-haystack==1.0.0rc1) (57.4.0)\n",
            "Requirement already satisfied: flask-restplus in /usr/local/lib/python3.7/dist-packages (from farm==0.8.0->farm-haystack==1.0.0rc1) (0.13.0)\n",
            "Requirement already satisfied: dill in /usr/local/lib/python3.7/dist-packages (from farm==0.8.0->farm-haystack==1.0.0rc1) (0.3.4)\n",
            "Requirement already satisfied: boto3 in /usr/local/lib/python3.7/dist-packages (from farm==0.8.0->farm-haystack==1.0.0rc1) (1.18.44)\n",
            "Requirement already satisfied: colorama in /usr/local/lib/python3.7/dist-packages (from ray==1.5.0->farm-haystack==1.0.0rc1) (0.4.4)\n",
            "Requirement already satisfied: aiohttp-cors in /usr/local/lib/python3.7/dist-packages (from ray==1.5.0->farm-haystack==1.0.0rc1) (0.7.0)\n",
            "Requirement already satisfied: aiohttp in /usr/local/lib/python3.7/dist-packages (from ray==1.5.0->farm-haystack==1.0.0rc1) (3.7.4.post0)\n",
            "Requirement already satisfied: gpustat in /usr/local/lib/python3.7/dist-packages (from ray==1.5.0->farm-haystack==1.0.0rc1) (0.6.0)\n",
            "Requirement already satisfied: pyyaml in /usr/local/lib/python3.7/dist-packages (from ray==1.5.0->farm-haystack==1.0.0rc1) (3.13)\n",
            "Requirement already satisfied: py-spy>=0.2.0 in /usr/local/lib/python3.7/dist-packages (from ray==1.5.0->farm-haystack==1.0.0rc1) (0.3.9)\n",
            "Requirement already satisfied: jsonschema in /usr/local/lib/python3.7/dist-packages (from ray==1.5.0->farm-haystack==1.0.0rc1) (2.6.0)\n",
            "Requirement already satisfied: redis>=3.5.0 in /usr/local/lib/python3.7/dist-packages (from ray==1.5.0->farm-haystack==1.0.0rc1) (3.5.3)\n",
            "Requirement already satisfied: click>=7.0 in /usr/local/lib/python3.7/dist-packages (from ray==1.5.0->farm-haystack==1.0.0rc1) (7.1.2)\n",
            "Requirement already satisfied: opencensus in /usr/local/lib/python3.7/dist-packages (from ray==1.5.0->farm-haystack==1.0.0rc1) (0.7.13)\n",
            "Requirement already satisfied: protobuf>=3.15.3 in /usr/local/lib/python3.7/dist-packages (from ray==1.5.0->farm-haystack==1.0.0rc1) (3.17.3)\n",
            "Requirement already satisfied: filelock in /usr/local/lib/python3.7/dist-packages (from ray==1.5.0->farm-haystack==1.0.0rc1) (3.0.12)\n",
            "Requirement already satisfied: msgpack<2.0.0,>=1.0.0 in /usr/local/lib/python3.7/dist-packages (from ray==1.5.0->farm-haystack==1.0.0rc1) (1.0.2)\n",
            "Requirement already satisfied: pydantic>=1.8 in /usr/local/lib/python3.7/dist-packages (from ray==1.5.0->farm-haystack==1.0.0rc1) (1.8.2)\n",
            "Requirement already satisfied: numpy>=1.16 in /usr/local/lib/python3.7/dist-packages (from ray==1.5.0->farm-haystack==1.0.0rc1) (1.19.5)\n",
            "Requirement already satisfied: aioredis in /usr/local/lib/python3.7/dist-packages (from ray==1.5.0->farm-haystack==1.0.0rc1) (2.0.0)\n",
            "Requirement already satisfied: prometheus-client>=0.7.1 in /usr/local/lib/python3.7/dist-packages (from ray==1.5.0->farm-haystack==1.0.0rc1) (0.11.0)\n",
            "Requirement already satisfied: grpcio>=1.28.1 in /usr/local/lib/python3.7/dist-packages (from ray==1.5.0->farm-haystack==1.0.0rc1) (1.37.1)\n",
            "Requirement already satisfied: sacremoses in /usr/local/lib/python3.7/dist-packages (from transformers==4.6.1->farm==0.8.0->farm-haystack==1.0.0rc1) (0.0.45)\n",
            "Requirement already satisfied: huggingface-hub==0.0.8 in /usr/local/lib/python3.7/dist-packages (from transformers==4.6.1->farm==0.8.0->farm-haystack==1.0.0rc1) (0.0.8)\n",
            "Requirement already satisfied: importlib-metadata in /usr/local/lib/python3.7/dist-packages (from transformers==4.6.1->farm==0.8.0->farm-haystack==1.0.0rc1) (4.8.1)\n",
            "Requirement already satisfied: tokenizers<0.11,>=0.10.1 in /usr/local/lib/python3.7/dist-packages (from transformers==4.6.1->farm==0.8.0->farm-haystack==1.0.0rc1) (0.10.3)\n",
            "Requirement already satisfied: regex!=2019.12.17 in /usr/local/lib/python3.7/dist-packages (from transformers==4.6.1->farm==0.8.0->farm-haystack==1.0.0rc1) (2019.12.20)\n",
            "Requirement already satisfied: packaging in /usr/local/lib/python3.7/dist-packages (from transformers==4.6.1->farm==0.8.0->farm-haystack==1.0.0rc1) (21.0)\n",
            "Requirement already satisfied: validators>=0.18.2 in /usr/local/lib/python3.7/dist-packages (from weaviate-client==2.5.0->farm-haystack==1.0.0rc1) (0.18.2)\n",
            "Requirement already satisfied: certifi in /usr/local/lib/python3.7/dist-packages (from elasticsearch<=7.10,>=7.7->farm-haystack==1.0.0rc1) (2021.5.30)\n",
            "Requirement already satisfied: urllib3<2,>=1.21.1 in /usr/local/lib/python3.7/dist-packages (from elasticsearch<=7.10,>=7.7->farm-haystack==1.0.0rc1) (1.25.11)\n",
            "Requirement already satisfied: six>=1.5.2 in /usr/local/lib/python3.7/dist-packages (from grpcio>=1.28.1->ray==1.5.0->farm-haystack==1.0.0rc1) (1.15.0)\n",
            "Requirement already satisfied: querystring-parser in /usr/local/lib/python3.7/dist-packages (from mlflow<=1.13.1->farm==0.8.0->farm-haystack==1.0.0rc1) (1.2.4)\n",
            "Requirement already satisfied: python-dateutil in /usr/local/lib/python3.7/dist-packages (from mlflow<=1.13.1->farm==0.8.0->farm-haystack==1.0.0rc1) (2.8.2)\n",
            "Requirement already satisfied: prometheus-flask-exporter in /usr/local/lib/python3.7/dist-packages (from mlflow<=1.13.1->farm==0.8.0->farm-haystack==1.0.0rc1) (0.18.2)\n",
            "Requirement already satisfied: docker>=4.0.0 in /usr/local/lib/python3.7/dist-packages (from mlflow<=1.13.1->farm==0.8.0->farm-haystack==1.0.0rc1) (5.0.2)\n",
            "Requirement already satisfied: alembic<=1.4.1 in /usr/local/lib/python3.7/dist-packages (from mlflow<=1.13.1->farm==0.8.0->farm-haystack==1.0.0rc1) (1.4.1)\n",
            "Requirement already satisfied: gitpython>=2.1.0 in /usr/local/lib/python3.7/dist-packages (from mlflow<=1.13.1->farm==0.8.0->farm-haystack==1.0.0rc1) (3.1.24)\n",
            "Requirement already satisfied: databricks-cli>=0.8.7 in /usr/local/lib/python3.7/dist-packages (from mlflow<=1.13.1->farm==0.8.0->farm-haystack==1.0.0rc1) (0.15.0)\n",
            "Requirement already satisfied: sqlparse>=0.3.1 in /usr/local/lib/python3.7/dist-packages (from mlflow<=1.13.1->farm==0.8.0->farm-haystack==1.0.0rc1) (0.4.2)\n",
            "Requirement already satisfied: cloudpickle in /usr/local/lib/python3.7/dist-packages (from mlflow<=1.13.1->farm==0.8.0->farm-haystack==1.0.0rc1) (1.3.0)\n",
            "Requirement already satisfied: azure-storage-blob>=12.0.0 in /usr/local/lib/python3.7/dist-packages (from mlflow<=1.13.1->farm==0.8.0->farm-haystack==1.0.0rc1) (12.9.0)\n",
            "Requirement already satisfied: entrypoints in /usr/local/lib/python3.7/dist-packages (from mlflow<=1.13.1->farm==0.8.0->farm-haystack==1.0.0rc1) (0.3)\n",
            "Requirement already satisfied: Mako in /usr/local/lib/python3.7/dist-packages (from alembic<=1.4.1->mlflow<=1.13.1->farm==0.8.0->farm-haystack==1.0.0rc1) (1.1.5)\n",
            "Requirement already satisfied: python-editor>=0.3 in /usr/local/lib/python3.7/dist-packages (from alembic<=1.4.1->mlflow<=1.13.1->farm==0.8.0->farm-haystack==1.0.0rc1) (1.0.4)\n",
            "Requirement already satisfied: msrest>=0.6.21 in /usr/local/lib/python3.7/dist-packages (from azure-storage-blob>=12.0.0->mlflow<=1.13.1->farm==0.8.0->farm-haystack==1.0.0rc1) (0.6.21)\n",
            "Requirement already satisfied: azure-core<2.0.0,>=1.10.0 in /usr/local/lib/python3.7/dist-packages (from azure-storage-blob>=12.0.0->mlflow<=1.13.1->farm==0.8.0->farm-haystack==1.0.0rc1) (1.18.0)\n",
            "Requirement already satisfied: cryptography>=2.1.4 in /usr/local/lib/python3.7/dist-packages (from azure-storage-blob>=12.0.0->mlflow<=1.13.1->farm==0.8.0->farm-haystack==1.0.0rc1) (3.4.8)\n",
            "Requirement already satisfied: cffi>=1.12 in /usr/local/lib/python3.7/dist-packages (from cryptography>=2.1.4->azure-storage-blob>=12.0.0->mlflow<=1.13.1->farm==0.8.0->farm-haystack==1.0.0rc1) (1.14.6)\n",
            "Requirement already satisfied: pycparser in /usr/local/lib/python3.7/dist-packages (from cffi>=1.12->cryptography>=2.1.4->azure-storage-blob>=12.0.0->mlflow<=1.13.1->farm==0.8.0->farm-haystack==1.0.0rc1) (2.20)\n",
            "Requirement already satisfied: tabulate>=0.7.7 in /usr/local/lib/python3.7/dist-packages (from databricks-cli>=0.8.7->mlflow<=1.13.1->farm==0.8.0->farm-haystack==1.0.0rc1) (0.8.9)\n",
            "Requirement already satisfied: websocket-client>=0.32.0 in /usr/local/lib/python3.7/dist-packages (from docker>=4.0.0->mlflow<=1.13.1->farm==0.8.0->farm-haystack==1.0.0rc1) (1.2.1)\n",
            "Requirement already satisfied: gitdb<5,>=4.0.1 in /usr/local/lib/python3.7/dist-packages (from gitpython>=2.1.0->mlflow<=1.13.1->farm==0.8.0->farm-haystack==1.0.0rc1) (4.0.7)\n",
            "Requirement already satisfied: typing-extensions>=3.7.4.3 in /usr/local/lib/python3.7/dist-packages (from gitpython>=2.1.0->mlflow<=1.13.1->farm==0.8.0->farm-haystack==1.0.0rc1) (3.7.4.3)\n",
            "Requirement already satisfied: smmap<5,>=3.0.1 in /usr/local/lib/python3.7/dist-packages (from gitdb<5,>=4.0.1->gitpython>=2.1.0->mlflow<=1.13.1->farm==0.8.0->farm-haystack==1.0.0rc1) (4.0.0)\n",
            "Requirement already satisfied: isodate>=0.6.0 in /usr/local/lib/python3.7/dist-packages (from msrest>=0.6.21->azure-storage-blob>=12.0.0->mlflow<=1.13.1->farm==0.8.0->farm-haystack==1.0.0rc1) (0.6.0)\n",
            "Requirement already satisfied: requests-oauthlib>=0.5.0 in /usr/local/lib/python3.7/dist-packages (from msrest>=0.6.21->azure-storage-blob>=12.0.0->mlflow<=1.13.1->farm==0.8.0->farm-haystack==1.0.0rc1) (1.3.0)\n",
            "Requirement already satisfied: idna<3,>=2.5 in /usr/local/lib/python3.7/dist-packages (from requests->farm==0.8.0->farm-haystack==1.0.0rc1) (2.10)\n",
            "Requirement already satisfied: chardet<4,>=3.0.2 in /usr/local/lib/python3.7/dist-packages (from requests->farm==0.8.0->farm-haystack==1.0.0rc1) (3.0.4)\n",
            "Requirement already satisfied: oauthlib>=3.0.0 in /usr/local/lib/python3.7/dist-packages (from requests-oauthlib>=0.5.0->msrest>=0.6.21->azure-storage-blob>=12.0.0->mlflow<=1.13.1->farm==0.8.0->farm-haystack==1.0.0rc1) (3.1.1)\n",
            "Requirement already satisfied: scikit-learn in /usr/local/lib/python3.7/dist-packages (from sentence-transformers>=0.4.0->farm-haystack==1.0.0rc1) (0.22.2.post1)\n",
            "Requirement already satisfied: torchvision in /usr/local/lib/python3.7/dist-packages (from sentence-transformers>=0.4.0->farm-haystack==1.0.0rc1) (0.9.1)\n",
            "Requirement already satisfied: greenlet!=0.4.17 in /usr/local/lib/python3.7/dist-packages (from sqlalchemy>=1.4.2->farm-haystack==1.0.0rc1) (1.1.1)\n",
            "Requirement already satisfied: decorator>=3.4.0 in /usr/local/lib/python3.7/dist-packages (from validators>=0.18.2->weaviate-client==2.5.0->farm-haystack==1.0.0rc1) (4.4.2)\n",
            "Requirement already satisfied: attrs>=17.3.0 in /usr/local/lib/python3.7/dist-packages (from aiohttp->ray==1.5.0->farm-haystack==1.0.0rc1) (21.2.0)\n",
            "Requirement already satisfied: multidict<7.0,>=4.5 in /usr/local/lib/python3.7/dist-packages (from aiohttp->ray==1.5.0->farm-haystack==1.0.0rc1) (5.1.0)\n",
            "Requirement already satisfied: yarl<2.0,>=1.0 in /usr/local/lib/python3.7/dist-packages (from aiohttp->ray==1.5.0->farm-haystack==1.0.0rc1) (1.6.3)\n",
            "Requirement already satisfied: async-timeout<4.0,>=3.0 in /usr/local/lib/python3.7/dist-packages (from aiohttp->ray==1.5.0->farm-haystack==1.0.0rc1) (3.0.1)\n",
            "Requirement already satisfied: botocore<1.22.0,>=1.21.44 in /usr/local/lib/python3.7/dist-packages (from boto3->farm==0.8.0->farm-haystack==1.0.0rc1) (1.21.44)\n",
            "Requirement already satisfied: jmespath<1.0.0,>=0.7.1 in /usr/local/lib/python3.7/dist-packages (from boto3->farm==0.8.0->farm-haystack==1.0.0rc1) (0.10.0)\n",
            "Requirement already satisfied: s3transfer<0.6.0,>=0.5.0 in /usr/local/lib/python3.7/dist-packages (from boto3->farm==0.8.0->farm-haystack==1.0.0rc1) (0.5.0)\n",
            "Requirement already satisfied: starlette==0.14.2 in /usr/local/lib/python3.7/dist-packages (from fastapi->farm-haystack==1.0.0rc1) (0.14.2)\n",
            "Requirement already satisfied: itsdangerous<2.0,>=0.24 in /usr/local/lib/python3.7/dist-packages (from flask->farm==0.8.0->farm-haystack==1.0.0rc1) (1.1.0)\n",
            "Requirement already satisfied: Jinja2<3.0,>=2.10.1 in /usr/local/lib/python3.7/dist-packages (from flask->farm==0.8.0->farm-haystack==1.0.0rc1) (2.11.3)\n",
            "Requirement already satisfied: MarkupSafe>=0.23 in /usr/local/lib/python3.7/dist-packages (from Jinja2<3.0,>=2.10.1->flask->farm==0.8.0->farm-haystack==1.0.0rc1) (2.0.1)\n",
            "Requirement already satisfied: aniso8601>=0.82 in /usr/local/lib/python3.7/dist-packages (from flask-restplus->farm==0.8.0->farm-haystack==1.0.0rc1) (9.0.1)\n",
            "Requirement already satisfied: pytz in /usr/local/lib/python3.7/dist-packages (from flask-restplus->farm==0.8.0->farm-haystack==1.0.0rc1) (2018.9)\n",
            "Requirement already satisfied: blessings>=1.6 in /usr/local/lib/python3.7/dist-packages (from gpustat->ray==1.5.0->farm-haystack==1.0.0rc1) (1.7)\n",
            "Requirement already satisfied: nvidia-ml-py3>=7.352.0 in /usr/local/lib/python3.7/dist-packages (from gpustat->ray==1.5.0->farm-haystack==1.0.0rc1) (7.352.0)\n",
            "Requirement already satisfied: zipp>=0.5 in /usr/local/lib/python3.7/dist-packages (from importlib-metadata->transformers==4.6.1->farm==0.8.0->farm-haystack==1.0.0rc1) (3.5.0)\n",
            "Requirement already satisfied: opencensus-context==0.1.2 in /usr/local/lib/python3.7/dist-packages (from opencensus->ray==1.5.0->farm-haystack==1.0.0rc1) (0.1.2)\n",
            "Requirement already satisfied: google-api-core<2.0.0,>=1.0.0 in /usr/local/lib/python3.7/dist-packages (from opencensus->ray==1.5.0->farm-haystack==1.0.0rc1) (1.26.3)\n",
            "Requirement already satisfied: google-auth<2.0dev,>=1.21.1 in /usr/local/lib/python3.7/dist-packages (from google-api-core<2.0.0,>=1.0.0->opencensus->ray==1.5.0->farm-haystack==1.0.0rc1) (1.35.0)\n",
            "Requirement already satisfied: googleapis-common-protos<2.0dev,>=1.6.0 in /usr/local/lib/python3.7/dist-packages (from google-api-core<2.0.0,>=1.0.0->opencensus->ray==1.5.0->farm-haystack==1.0.0rc1) (1.53.0)\n",
            "Requirement already satisfied: pyasn1-modules>=0.2.1 in /usr/local/lib/python3.7/dist-packages (from google-auth<2.0dev,>=1.21.1->google-api-core<2.0.0,>=1.0.0->opencensus->ray==1.5.0->farm-haystack==1.0.0rc1) (0.2.8)\n",
            "Requirement already satisfied: cachetools<5.0,>=2.0.0 in /usr/local/lib/python3.7/dist-packages (from google-auth<2.0dev,>=1.21.1->google-api-core<2.0.0,>=1.0.0->opencensus->ray==1.5.0->farm-haystack==1.0.0rc1) (4.2.2)\n",
            "Requirement already satisfied: rsa<5,>=3.1.4 in /usr/local/lib/python3.7/dist-packages (from google-auth<2.0dev,>=1.21.1->google-api-core<2.0.0,>=1.0.0->opencensus->ray==1.5.0->farm-haystack==1.0.0rc1) (4.7.2)\n",
            "Requirement already satisfied: pyparsing>=2.0.2 in /usr/local/lib/python3.7/dist-packages (from packaging->transformers==4.6.1->farm==0.8.0->farm-haystack==1.0.0rc1) (2.4.7)\n",
            "Requirement already satisfied: pyasn1<0.5.0,>=0.4.6 in /usr/local/lib/python3.7/dist-packages (from pyasn1-modules>=0.2.1->google-auth<2.0dev,>=1.21.1->google-api-core<2.0.0,>=1.0.0->opencensus->ray==1.5.0->farm-haystack==1.0.0rc1) (0.4.8)\n",
            "Requirement already satisfied: ujson>=2.0.0 in /usr/local/lib/python3.7/dist-packages (from pymilvus->farm-haystack==1.0.0rc1) (4.1.0)\n",
            "Requirement already satisfied: grpcio-tools<1.38.0,>=1.22.0 in /usr/local/lib/python3.7/dist-packages (from pymilvus->farm-haystack==1.0.0rc1) (1.34.1)\n",
            "Requirement already satisfied: lxml>=2.3.2 in /usr/local/lib/python3.7/dist-packages (from python-docx->farm-haystack==1.0.0rc1) (4.2.6)\n",
            "Requirement already satisfied: joblib in /usr/local/lib/python3.7/dist-packages (from sacremoses->transformers==4.6.1->farm==0.8.0->farm-haystack==1.0.0rc1) (1.0.1)\n",
            "Requirement already satisfied: rdflib>=4.0 in /usr/local/lib/python3.7/dist-packages (from SPARQLWrapper->farm-haystack==1.0.0rc1) (6.0.1)\n",
            "Requirement already satisfied: pluggy>=0.12.0 in /usr/local/lib/python3.7/dist-packages (from tox->farm-haystack==1.0.0rc1) (1.0.0)\n",
            "Requirement already satisfied: py>=1.4.17 in /usr/local/lib/python3.7/dist-packages (from tox->farm-haystack==1.0.0rc1) (1.10.0)\n",
            "Requirement already satisfied: toml>=0.9.4 in /usr/local/lib/python3.7/dist-packages (from tox->farm-haystack==1.0.0rc1) (0.10.2)\n",
            "Requirement already satisfied: virtualenv!=20.0.0,!=20.0.1,!=20.0.2,!=20.0.3,!=20.0.4,!=20.0.5,!=20.0.6,!=20.0.7,>=16.0.0 in /usr/local/lib/python3.7/dist-packages (from tox->farm-haystack==1.0.0rc1) (20.8.0)\n",
            "Requirement already satisfied: platformdirs<3,>=2 in /usr/local/lib/python3.7/dist-packages (from virtualenv!=20.0.0,!=20.0.1,!=20.0.2,!=20.0.3,!=20.0.4,!=20.0.5,!=20.0.6,!=20.0.7,>=16.0.0->tox->farm-haystack==1.0.0rc1) (2.3.0)\n",
            "Requirement already satisfied: distlib<1,>=0.3.1 in /usr/local/lib/python3.7/dist-packages (from virtualenv!=20.0.0,!=20.0.1,!=20.0.2,!=20.0.3,!=20.0.4,!=20.0.5,!=20.0.6,!=20.0.7,>=16.0.0->tox->farm-haystack==1.0.0rc1) (0.3.2)\n",
            "Requirement already satisfied: backports.entry-points-selectable>=1.0.4 in /usr/local/lib/python3.7/dist-packages (from virtualenv!=20.0.0,!=20.0.1,!=20.0.2,!=20.0.3,!=20.0.4,!=20.0.5,!=20.0.6,!=20.0.7,>=16.0.0->tox->farm-haystack==1.0.0rc1) (1.1.0)\n",
            "Requirement already satisfied: asgiref>=3.4.0 in /usr/local/lib/python3.7/dist-packages (from uvicorn->farm-haystack==1.0.0rc1) (3.4.1)\n",
            "Requirement already satisfied: h11>=0.8 in /usr/local/lib/python3.7/dist-packages (from uvicorn->farm-haystack==1.0.0rc1) (0.12.0)\n"
          ]
        }
      ]
    },
    {
      "cell_type": "code",
      "metadata": {
        "id": "5x3791kY7CUI",
        "colab": {
          "base_uri": "https://localhost:8080/"
        },
        "outputId": "96d96a4e-fa05-442d-955c-fe59f4631430"
      },
      "source": [
        "from haystack.preprocessor.cleaning import clean_wiki_text\n",
        "from haystack.preprocessor.utils import convert_files_to_dicts, fetch_archive_from_http\n",
        "from haystack.reader.farm import FARMReader\n",
        "from haystack.reader.transformers import TransformersReader\n",
        "from haystack.utils import print_answers"
      ],
      "execution_count": 3,
      "outputs": [
        {
          "output_type": "stream",
          "name": "stderr",
          "text": [
            "/usr/local/lib/python3.7/dist-packages/ray/autoscaler/_private/cli_logger.py:61: FutureWarning: Not all Ray CLI dependencies were found. In Ray 1.4+, the Ray CLI, autoscaler, and dashboard will only be usable via `pip install 'ray[default]'`. Please update your install command.\n",
            "  \"update your install command.\", FutureWarning)\n"
          ]
        }
      ]
    },
    {
      "cell_type": "code",
      "metadata": {
        "id": "j73LMp1k7CUJ",
        "colab": {
          "base_uri": "https://localhost:8080/"
        },
        "outputId": "3dc44217-c290-4e69-8e7f-5bcac2cac0aa"
      },
      "source": [
        "# Start Elasticsearch using Docker via the Haystack utility function\n",
        "from haystack.utils import launch_es\n",
        "\n",
        "launch_es()"
      ],
      "execution_count": 4,
      "outputs": [
        {
          "output_type": "stream",
          "name": "stderr",
          "text": [
            "09/21/2021 15:52:20 - INFO - haystack.utils -   Starting Elasticsearch ...\n",
            "09/21/2021 15:52:20 - WARNING - haystack.utils -   Tried to start Elasticsearch through Docker but this failed. It is likely that there is already an existing Elasticsearch instance running. \n"
          ]
        }
      ]
    },
    {
      "cell_type": "code",
      "metadata": {
        "id": "7McET0r77CUK",
        "outputId": "74305a9e-6694-4e7c-89fc-55df03ce6650",
        "colab": {
          "base_uri": "https://localhost:8080/",
          "height": 391
        }
      },
      "source": [
        "# In Colab / No Docker environments: Start Elasticsearch from source\n",
        "#! wget https://artifacts.elastic.co/downloads/elasticsearch/elasticsearch-7.9.2-linux-x86_64.tar.gz -q\n",
        "#! tar -xzf elasticsearch-7.9.2-linux-x86_64.tar.gz\n",
        "#! chown -R daemon:daemon elasticsearch-7.9.2\n",
        "\n",
        "import os\n",
        "from subprocess import Popen, PIPE, STDOUT\n",
        "es_server = Popen(['elasticsearch-7.9.2/bin/elasticsearch'],\n",
        "                   stdout=PIPE, stderr=STDOUT,\n",
        "                   preexec_fn=lambda: os.setuid(1)  # as daemon\n",
        "                  )\n",
        "# wait until ES has started\n",
        "! sleep 30"
      ],
      "execution_count": 5,
      "outputs": [
        {
          "output_type": "error",
          "ename": "FileNotFoundError",
          "evalue": "ignored",
          "traceback": [
            "\u001b[0;31m---------------------------------------------------------------------------\u001b[0m",
            "\u001b[0;31mFileNotFoundError\u001b[0m                         Traceback (most recent call last)",
            "\u001b[0;32m<ipython-input-5-a39d51c7f82e>\u001b[0m in \u001b[0;36m<module>\u001b[0;34m()\u001b[0m\n\u001b[1;32m      8\u001b[0m es_server = Popen(['elasticsearch-7.9.2/bin/elasticsearch'],\n\u001b[1;32m      9\u001b[0m                    \u001b[0mstdout\u001b[0m\u001b[0;34m=\u001b[0m\u001b[0mPIPE\u001b[0m\u001b[0;34m,\u001b[0m \u001b[0mstderr\u001b[0m\u001b[0;34m=\u001b[0m\u001b[0mSTDOUT\u001b[0m\u001b[0;34m,\u001b[0m\u001b[0;34m\u001b[0m\u001b[0;34m\u001b[0m\u001b[0m\n\u001b[0;32m---> 10\u001b[0;31m                    \u001b[0mpreexec_fn\u001b[0m\u001b[0;34m=\u001b[0m\u001b[0;32mlambda\u001b[0m\u001b[0;34m:\u001b[0m \u001b[0mos\u001b[0m\u001b[0;34m.\u001b[0m\u001b[0msetuid\u001b[0m\u001b[0;34m(\u001b[0m\u001b[0;36m1\u001b[0m\u001b[0;34m)\u001b[0m  \u001b[0;31m# as daemon\u001b[0m\u001b[0;34m\u001b[0m\u001b[0;34m\u001b[0m\u001b[0m\n\u001b[0m\u001b[1;32m     11\u001b[0m                   )\n\u001b[1;32m     12\u001b[0m \u001b[0;31m# wait until ES has started\u001b[0m\u001b[0;34m\u001b[0m\u001b[0;34m\u001b[0m\u001b[0;34m\u001b[0m\u001b[0m\n",
            "\u001b[0;32m/usr/lib/python3.7/subprocess.py\u001b[0m in \u001b[0;36m__init__\u001b[0;34m(self, args, bufsize, executable, stdin, stdout, stderr, preexec_fn, close_fds, shell, cwd, env, universal_newlines, startupinfo, creationflags, restore_signals, start_new_session, pass_fds, encoding, errors, text)\u001b[0m\n\u001b[1;32m    798\u001b[0m                                 \u001b[0mc2pread\u001b[0m\u001b[0;34m,\u001b[0m \u001b[0mc2pwrite\u001b[0m\u001b[0;34m,\u001b[0m\u001b[0;34m\u001b[0m\u001b[0;34m\u001b[0m\u001b[0m\n\u001b[1;32m    799\u001b[0m                                 \u001b[0merrread\u001b[0m\u001b[0;34m,\u001b[0m \u001b[0merrwrite\u001b[0m\u001b[0;34m,\u001b[0m\u001b[0;34m\u001b[0m\u001b[0;34m\u001b[0m\u001b[0m\n\u001b[0;32m--> 800\u001b[0;31m                                 restore_signals, start_new_session)\n\u001b[0m\u001b[1;32m    801\u001b[0m         \u001b[0;32mexcept\u001b[0m\u001b[0;34m:\u001b[0m\u001b[0;34m\u001b[0m\u001b[0;34m\u001b[0m\u001b[0m\n\u001b[1;32m    802\u001b[0m             \u001b[0;31m# Cleanup if the child failed starting.\u001b[0m\u001b[0;34m\u001b[0m\u001b[0;34m\u001b[0m\u001b[0;34m\u001b[0m\u001b[0m\n",
            "\u001b[0;32m/usr/lib/python3.7/subprocess.py\u001b[0m in \u001b[0;36m_execute_child\u001b[0;34m(self, args, executable, preexec_fn, close_fds, pass_fds, cwd, env, startupinfo, creationflags, shell, p2cread, p2cwrite, c2pread, c2pwrite, errread, errwrite, restore_signals, start_new_session)\u001b[0m\n\u001b[1;32m   1549\u001b[0m                         \u001b[0;32mif\u001b[0m \u001b[0merrno_num\u001b[0m \u001b[0;34m==\u001b[0m \u001b[0merrno\u001b[0m\u001b[0;34m.\u001b[0m\u001b[0mENOENT\u001b[0m\u001b[0;34m:\u001b[0m\u001b[0;34m\u001b[0m\u001b[0;34m\u001b[0m\u001b[0m\n\u001b[1;32m   1550\u001b[0m                             \u001b[0merr_msg\u001b[0m \u001b[0;34m+=\u001b[0m \u001b[0;34m': '\u001b[0m \u001b[0;34m+\u001b[0m \u001b[0mrepr\u001b[0m\u001b[0;34m(\u001b[0m\u001b[0merr_filename\u001b[0m\u001b[0;34m)\u001b[0m\u001b[0;34m\u001b[0m\u001b[0;34m\u001b[0m\u001b[0m\n\u001b[0;32m-> 1551\u001b[0;31m                     \u001b[0;32mraise\u001b[0m \u001b[0mchild_exception_type\u001b[0m\u001b[0;34m(\u001b[0m\u001b[0merrno_num\u001b[0m\u001b[0;34m,\u001b[0m \u001b[0merr_msg\u001b[0m\u001b[0;34m,\u001b[0m \u001b[0merr_filename\u001b[0m\u001b[0;34m)\u001b[0m\u001b[0;34m\u001b[0m\u001b[0;34m\u001b[0m\u001b[0m\n\u001b[0m\u001b[1;32m   1552\u001b[0m                 \u001b[0;32mraise\u001b[0m \u001b[0mchild_exception_type\u001b[0m\u001b[0;34m(\u001b[0m\u001b[0merr_msg\u001b[0m\u001b[0;34m)\u001b[0m\u001b[0;34m\u001b[0m\u001b[0;34m\u001b[0m\u001b[0m\n\u001b[1;32m   1553\u001b[0m \u001b[0;34m\u001b[0m\u001b[0m\n",
            "\u001b[0;31mFileNotFoundError\u001b[0m: [Errno 2] No such file or directory: 'elasticsearch-7.9.2/bin/elasticsearch': 'elasticsearch-7.9.2/bin/elasticsearch'"
          ]
        }
      ]
    },
    {
      "cell_type": "code",
      "metadata": {
        "pycharm": {
          "name": "#%%\n"
        },
        "id": "w6fgqYSf7CUK"
      },
      "source": [
        "# Connect to Elasticsearch\n",
        "\n",
        "from haystack.document_store.elasticsearch import ElasticsearchDocumentStore\n",
        "document_store = ElasticsearchDocumentStore(host=\"localhost\", username=\"\", password=\"\", index=\"document\")\n",
        "document_store.delete_all_documents\n",
        "\n"
      ],
      "execution_count": null,
      "outputs": []
    },
    {
      "cell_type": "code",
      "metadata": {
        "pycharm": {
          "name": "#%%\n"
        },
        "id": "FB7MAM-s7CUK"
      },
      "source": [
        "# txt. files in dem angegeben pfad ablegen!\n",
        "path = 'data/crypto'\n",
        "wrong_path= 'data/crypto/txt_files/~BROMIUM'\n",
        "from zipfile import ZipFile\n",
        "with ZipFile('txt_files.zip', 'r') as zipObj:\n",
        "  zipObj.extractall(path)\n",
        "import os\n",
        "import sys\n",
        "import shutil\n",
        "\n",
        "# Get directory name\n",
        "mydir= wrong_path\n",
        "\n",
        "try:\n",
        "    shutil.rmtree(mydir)\n",
        "except OSError as e:\n",
        "    print(\"Error: %s - %s.\" % (e.filename, e.strerror))\n",
        "docs = path\n",
        "\n",
        "# Convert files to dicts, with the already pre defined clean_wiki_text cleaning funciton\n",
        "dicts = convert_files_to_dicts(dir_path=docs, clean_func=clean_wiki_text, split_paragraphs=True)\n",
        "\n",
        "# We now have a list of dictionaries that we can write to our document store.\n",
        "\n",
        "# Write the dicts containing documents to our DB.\n",
        "document_store.write_documents(dicts)"
      ],
      "execution_count": null,
      "outputs": []
    },
    {
      "cell_type": "code",
      "metadata": {
        "id": "SAod1xuu7CUL"
      },
      "source": [
        "from haystack.retriever.sparse import ElasticsearchRetriever\n",
        "retriever = ElasticsearchRetriever(document_store=document_store)"
      ],
      "execution_count": null,
      "outputs": []
    },
    {
      "cell_type": "code",
      "metadata": {
        "pycharm": {
          "is_executing": false
        },
        "id": "U3s2gM2N7CUM"
      },
      "source": [
        "# Load a model that is suitable for the task - we chose roberta-base-squad2)\n",
        "\n",
        "reader = FARMReader(model_name_or_path=\"deepset/roberta-base-squad2\", use_gpu=True)"
      ],
      "execution_count": null,
      "outputs": []
    },
    {
      "cell_type": "code",
      "metadata": {
        "id": "SGRUwqzN7CUM"
      },
      "source": [
        "# Alternative: Shit\n",
        "reader2 = FARMReader(model_name_or_path=\"distilbert-base-uncased-distilled-squad\", tokenizer=\"distilbert-base-uncased\", use_gpu=-1)"
      ],
      "execution_count": null,
      "outputs": []
    },
    {
      "cell_type": "code",
      "metadata": {
        "pycharm": {
          "is_executing": false
        },
        "id": "AeKvKSnx7CUN"
      },
      "source": [
        "# ExtractiveQAPipeline lets you specify a retriever and a reader\n",
        "from haystack.pipeline import ExtractiveQAPipeline\n",
        "pipe = ExtractiveQAPipeline(reader, retriever)"
      ],
      "execution_count": null,
      "outputs": []
    },
    {
      "cell_type": "code",
      "metadata": {
        "pycharm": {
          "is_executing": false
        },
        "id": "Pq-20PFg7CUN"
      },
      "source": [
        "# You can configure how many candidates the reader and retriever shall return\n",
        "# The higher top_k_retriever, the better (but also the slower) your answers. \n",
        "answers= []\n",
        "for i in range(x):\n",
        "  answers[i]=pipe.run(query=questions[i], params= {\"Retriever\": {\"top_k\": 10}, \"Reader\": {\"top_k\": 5}}\n",
        "    )\n",
        "#prediction = pipe.run(query=\"why to use bitcoin\", params= {\"Retriever\": {\"top_k\": 10}, \"Reader\": {\"top_k\": 5}}\n",
        "#    )"
      ],
      "execution_count": null,
      "outputs": []
    },
    {
      "cell_type": "code",
      "metadata": {
        "id": "uxOOSFx37CUN"
      },
      "source": [
        "# prediction = pipe.run(query=\"Who created the Dothraki vocabulary?\", top_k_reader=5)\n",
        "# prediction = pipe.run(query=\"Who is the sister of Sansa?\", top_k_reader=5)"
      ],
      "execution_count": null,
      "outputs": []
    },
    {
      "cell_type": "code",
      "metadata": {
        "pycharm": {
          "is_executing": false,
          "name": "#%%\n"
        },
        "id": "4pghpnRY7CUN"
      },
      "source": [
        "print_answers(prediction, details=\"minimal\")"
      ],
      "execution_count": null,
      "outputs": []
    }
  ]
}