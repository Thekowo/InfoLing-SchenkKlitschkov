{
  "nbformat": 4,
  "nbformat_minor": 0,
  "metadata": {
    "kernelspec": {
      "display_name": "Python 3",
      "language": "python",
      "name": "python3"
    },
    "language_info": {
      "codemirror_mode": {
        "name": "ipython",
        "version": 3
      },
      "file_extension": ".py",
      "mimetype": "text/x-python",
      "name": "python",
      "nbconvert_exporter": "python",
      "pygments_lexer": "ipython3",
      "version": "3.7.6"
    },
    "pycharm": {
      "stem_cell": {
        "cell_type": "raw",
        "source": [],
        "metadata": {
          "collapsed": false
        }
      }
    },
    "colab": {
      "name": "Crypto QA.ipynb",
      "provenance": [],
      "collapsed_sections": [],
      "include_colab_link": true
    },
    "accelerator": "GPU"
  },
  "cells": [
    {
      "cell_type": "markdown",
      "metadata": {
        "id": "view-in-github",
        "colab_type": "text"
      },
      "source": [
        "<a href=\"https://colab.research.google.com/github/Thekowo/InfoLing-SchenkKlitschkov/blob/main/Crypto_QA.ipynb\" target=\"_parent\"><img src=\"https://colab.research.google.com/assets/colab-badge.svg\" alt=\"Open In Colab\"/></a>"
      ]
    },
    {
      "cell_type": "code",
      "metadata": {
        "pycharm": {
          "name": "#%%\n"
        },
        "id": "0Xk7IWr-7CUI"
      },
      "source": [
        "# Make sure you have a GPU running\n",
        "!nvidia-smi"
      ],
      "execution_count": null,
      "outputs": []
    },
    {
      "cell_type": "code",
      "metadata": {
        "id": "IcaJc4-87CUI"
      },
      "source": [
        "# Install the latest release of Haystack in your own environment \n",
        "#! pip install farm-haystack\n",
        "\n",
        "# Install the latest master of Haystack\n",
        "!pip install grpcio-tools==1.34.1\n",
        "!pip install git+https://github.com/deepset-ai/haystack.git\n"
      ],
      "execution_count": null,
      "outputs": []
    },
    {
      "cell_type": "code",
      "metadata": {
        "id": "5x3791kY7CUI",
        "colab": {
          "base_uri": "https://localhost:8080/"
        },
        "outputId": "c12e22d5-1e42-44c0-ee7e-81c700942399"
      },
      "source": [
        "from haystack.preprocessor.cleaning import clean_wiki_text\n",
        "from haystack.preprocessor.utils import convert_files_to_dicts, fetch_archive_from_http\n",
        "from haystack.reader.farm import FARMReader\n",
        "from haystack.reader.transformers import TransformersReader\n",
        "from haystack.utils import print_answers"
      ],
      "execution_count": null,
      "outputs": [
        {
          "output_type": "stream",
          "name": "stderr",
          "text": [
            "/usr/local/lib/python3.7/dist-packages/ray/autoscaler/_private/cli_logger.py:61: FutureWarning: Not all Ray CLI dependencies were found. In Ray 1.4+, the Ray CLI, autoscaler, and dashboard will only be usable via `pip install 'ray[default]'`. Please update your install command.\n",
            "  \"update your install command.\", FutureWarning)\n"
          ]
        }
      ]
    },
    {
      "cell_type": "code",
      "metadata": {
        "id": "j73LMp1k7CUJ",
        "colab": {
          "base_uri": "https://localhost:8080/"
        },
        "outputId": "3fe6bbbb-1a3d-494a-9976-037fb7fd4903"
      },
      "source": [
        "# Start Elasticsearch using Docker via the Haystack utility function\n",
        "from haystack.utils import launch_es\n",
        "\n",
        "launch_es()"
      ],
      "execution_count": 50,
      "outputs": [
        {
          "output_type": "stream",
          "name": "stderr",
          "text": [
            "09/21/2021 13:30:58 - INFO - haystack.utils -   Starting Elasticsearch ...\n",
            "09/21/2021 13:30:58 - WARNING - haystack.utils -   Tried to start Elasticsearch through Docker but this failed. It is likely that there is already an existing Elasticsearch instance running. \n"
          ]
        }
      ]
    },
    {
      "cell_type": "code",
      "metadata": {
        "id": "7McET0r77CUK"
      },
      "source": [
        "# In Colab / No Docker environments: Start Elasticsearch from source\n",
        "#! wget https://artifacts.elastic.co/downloads/elasticsearch/elasticsearch-7.9.2-linux-x86_64.tar.gz -q\n",
        "#! tar -xzf elasticsearch-7.9.2-linux-x86_64.tar.gz\n",
        "#! chown -R daemon:daemon elasticsearch-7.9.2\n",
        "\n",
        "import os\n",
        "from subprocess import Popen, PIPE, STDOUT\n",
        "es_server = Popen(['elasticsearch-7.9.2/bin/elasticsearch'],\n",
        "                   stdout=PIPE, stderr=STDOUT,\n",
        "                   preexec_fn=lambda: os.setuid(1)  # as daemon\n",
        "                  )\n",
        "# wait until ES has started\n",
        "! sleep 30"
      ],
      "execution_count": 51,
      "outputs": []
    },
    {
      "cell_type": "code",
      "metadata": {
        "pycharm": {
          "name": "#%%\n"
        },
        "id": "w6fgqYSf7CUK",
        "colab": {
          "base_uri": "https://localhost:8080/"
        },
        "outputId": "de79f361-d996-4f0a-e966-6a20aab44156"
      },
      "source": [
        "# Connect to Elasticsearch\n",
        "\n",
        "from haystack.document_store.elasticsearch import ElasticsearchDocumentStore\n",
        "document_store = ElasticsearchDocumentStore(host=\"localhost\", username=\"\", password=\"\", index=\"document\")\n",
        "document_store.delete_all_documents\n",
        "\n"
      ],
      "execution_count": 52,
      "outputs": [
        {
          "output_type": "stream",
          "name": "stderr",
          "text": [
            "09/21/2021 13:31:48 - INFO - elasticsearch -   HEAD http://localhost:9200/ [status:200 request:0.130s]\n",
            "09/21/2021 13:31:48 - INFO - elasticsearch -   HEAD http://localhost:9200/document [status:200 request:0.019s]\n",
            "09/21/2021 13:31:48 - INFO - elasticsearch -   GET http://localhost:9200/document [status:200 request:0.007s]\n",
            "09/21/2021 13:31:48 - INFO - elasticsearch -   PUT http://localhost:9200/document/_mapping [status:200 request:0.047s]\n",
            "09/21/2021 13:31:48 - INFO - elasticsearch -   HEAD http://localhost:9200/label [status:200 request:0.003s]\n"
          ]
        },
        {
          "output_type": "execute_result",
          "data": {
            "text/plain": [
              "<bound method ElasticsearchDocumentStore.delete_all_documents of <haystack.document_store.elasticsearch.ElasticsearchDocumentStore object at 0x7fc3dbaa3ad0>>"
            ]
          },
          "metadata": {},
          "execution_count": 52
        }
      ]
    },
    {
      "cell_type": "code",
      "metadata": {
        "pycharm": {
          "name": "#%%\n"
        },
        "id": "FB7MAM-s7CUK"
      },
      "source": [
        "# txt. files in dem angegeben pfad ablegen!\n",
        "path = 'data/crypto'\n",
        "wrong_path= 'data/crypto/txt_files/~BROMIUM'\n",
        "from zipfile import ZipFile\n",
        "with ZipFile('txt_files.zip', 'r') as zipObj:\n",
        "  zipObj.extractall(path)\n",
        "import os\n",
        "import sys\n",
        "import shutil\n",
        "\n",
        "# Get directory name\n",
        "mydir= wrong_path\n",
        "\n",
        "try:\n",
        "    shutil.rmtree(mydir)\n",
        "except OSError as e:\n",
        "    print(\"Error: %s - %s.\" % (e.filename, e.strerror))\n",
        "docs = path\n",
        "\n",
        "# Convert files to dicts, with the already pre defined clean_wiki_text cleaning funciton\n",
        "dicts = convert_files_to_dicts(dir_path=docs, clean_func=clean_wiki_text, split_paragraphs=True)\n",
        "\n",
        "# We now have a list of dictionaries that we can write to our document store.\n",
        "\n",
        "# Write the dicts containing documents to our DB.\n",
        "document_store.write_documents(dicts)"
      ],
      "execution_count": null,
      "outputs": []
    },
    {
      "cell_type": "code",
      "metadata": {
        "id": "SAod1xuu7CUL"
      },
      "source": [
        "from haystack.retriever.sparse import ElasticsearchRetriever\n",
        "retriever = ElasticsearchRetriever(document_store=document_store)"
      ],
      "execution_count": 54,
      "outputs": []
    },
    {
      "cell_type": "code",
      "metadata": {
        "pycharm": {
          "is_executing": false
        },
        "id": "U3s2gM2N7CUM"
      },
      "source": [
        "# Load a model that is suitable for the task - we chose roberta-base-squad2)\n",
        "\n",
        "reader = FARMReader(model_name_or_path=\"deepset/roberta-base-squad2\", use_gpu=True)"
      ],
      "execution_count": null,
      "outputs": []
    },
    {
      "cell_type": "code",
      "metadata": {
        "id": "SGRUwqzN7CUM"
      },
      "source": [
        "# Alternative: Shit\n",
        "reader2 = TransformersReader(model_name_or_path=\"distilbert-base-uncased-distilled-squad\", tokenizer=\"distilbert-base-uncased\", use_gpu=-1)"
      ],
      "execution_count": 25,
      "outputs": []
    },
    {
      "cell_type": "code",
      "metadata": {
        "pycharm": {
          "is_executing": false
        },
        "id": "AeKvKSnx7CUN"
      },
      "source": [
        "# ExtractiveQAPipeline lets you specify a retriever and a reader\n",
        "from haystack.pipeline import ExtractiveQAPipeline\n",
        "pipe = ExtractiveQAPipeline(reader, retriever)"
      ],
      "execution_count": 62,
      "outputs": []
    },
    {
      "cell_type": "code",
      "metadata": {
        "pycharm": {
          "is_executing": false
        },
        "id": "Pq-20PFg7CUN",
        "colab": {
          "base_uri": "https://localhost:8080/"
        },
        "outputId": "dff7ce7a-4f77-4f25-a553-60fcc05f7fa8"
      },
      "source": [
        "# You can configure how many candidates the reader and retriever shall return\n",
        "# The higher top_k_retriever, the better (but also the slower) your answers. \n",
        "prediction = pipe.run(query=\"why to use bitcoin\", params= {\"Retriever\": {\"top_k\": 15}, \"Reader\": {\"top_k\": 5}}\n",
        "    )"
      ],
      "execution_count": 64,
      "outputs": [
        {
          "output_type": "stream",
          "name": "stderr",
          "text": [
            "09/21/2021 13:56:15 - INFO - elasticsearch -   POST http://localhost:9200/document/_search [status:200 request:0.034s]\n",
            "Inferencing Samples: 100%|██████████| 1/1 [00:00<00:00,  1.16 Batches/s]\n",
            "Inferencing Samples: 100%|██████████| 1/1 [00:01<00:00,  1.36s/ Batches]\n",
            "Inferencing Samples: 100%|██████████| 1/1 [00:00<00:00,  2.04 Batches/s]\n",
            "Inferencing Samples: 100%|██████████| 1/1 [00:00<00:00,  4.05 Batches/s]\n",
            "Inferencing Samples: 100%|██████████| 2/2 [00:01<00:00,  1.12 Batches/s]\n",
            "Inferencing Samples: 100%|██████████| 1/1 [00:00<00:00,  7.75 Batches/s]\n",
            "Inferencing Samples: 100%|██████████| 1/1 [00:00<00:00,  3.07 Batches/s]\n",
            "Inferencing Samples: 100%|██████████| 1/1 [00:00<00:00,  1.41 Batches/s]\n",
            "Inferencing Samples: 100%|██████████| 1/1 [00:01<00:00,  1.12s/ Batches]\n",
            "Inferencing Samples: 100%|██████████| 1/1 [00:00<00:00,  1.51 Batches/s]\n",
            "Inferencing Samples: 100%|██████████| 1/1 [00:00<00:00,  1.41 Batches/s]\n",
            "Inferencing Samples: 100%|██████████| 1/1 [00:00<00:00,  1.36 Batches/s]\n",
            "Inferencing Samples: 100%|██████████| 2/2 [00:02<00:00,  1.36s/ Batches]\n",
            "Inferencing Samples: 100%|██████████| 1/1 [00:00<00:00,  2.68 Batches/s]\n",
            "Inferencing Samples: 100%|██████████| 2/2 [00:02<00:00,  1.19s/ Batches]\n"
          ]
        }
      ]
    },
    {
      "cell_type": "code",
      "metadata": {
        "id": "uxOOSFx37CUN"
      },
      "source": [
        "# prediction = pipe.run(query=\"Who created the Dothraki vocabulary?\", top_k_reader=5)\n",
        "# prediction = pipe.run(query=\"Who is the sister of Sansa?\", top_k_reader=5)"
      ],
      "execution_count": null,
      "outputs": []
    },
    {
      "cell_type": "code",
      "metadata": {
        "pycharm": {
          "is_executing": false,
          "name": "#%%\n"
        },
        "id": "4pghpnRY7CUN",
        "colab": {
          "base_uri": "https://localhost:8080/"
        },
        "outputId": "172f8331-9068-4f68-95e5-a0920d026393"
      },
      "source": [
        "print_answers(prediction, details=\"minimal\")"
      ],
      "execution_count": 65,
      "outputs": [
        {
          "output_type": "stream",
          "name": "stdout",
          "text": [
            "[   {   'answer': 'it prompts these institutions to operate sound policies',\n",
            "        'context': 'Reserve System and other central banks, because it prompts '\n",
            "                   'these institutions to operate sound policies.\\n'\n",
            "                   'Bitcoin, along with other cryptocurrencies, h'},\n",
            "    {   'answer': 'measuring the relative value of goods',\n",
            "        'context': 'ites that bitcoin has potential as a unit of account for '\n",
            "                   \"measuring the relative value of goods, as with Chile's \"\n",
            "                   'Unidad de Fomento, but that \"Bitcoin i'},\n",
            "    {   'answer': 'it so far exists outside the institutional banking system '\n",
            "                  'and the control of governments',\n",
            "        'context': 'ch-savvy libertarians, because it so far exists outside '\n",
            "                   'the institutional banking system and the control of '\n",
            "                   'governments. However, researchers looking '},\n",
            "    {   'answer': 'focused on use',\n",
            "        'context': 'Emin Gün Sirer, a professor at Cornell stated that Bitcoin '\n",
            "                   'Cash was focused on use and Bitcoin was \"enormously\" '\n",
            "                   'focused on store of value.\\n'\n",
            "                   'Bitcoin Cas'},\n",
            "    {   'answer': 'Users choose to participate in the digital currency for a '\n",
            "                  'number of reasons: ideologies such as commitment to '\n",
            "                  'anarchism, decentralization and libertarianism, '\n",
            "                  'convenience, using the currency as an investment and '\n",
            "                  'pseudonymity of transactions',\n",
            "        'context': ' Users choose to participate in the digital currency for a '\n",
            "                   'number of reasons: ideologies such as commitment to '\n",
            "                   'anarchism, decentralization and libertarianism, '\n",
            "                   'convenience, using the currency as an investment and '\n",
            "                   'pseudonymity of transactions'}]\n"
          ]
        }
      ]
    }
  ]
}